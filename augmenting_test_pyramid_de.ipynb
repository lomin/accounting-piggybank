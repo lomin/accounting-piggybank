{
 "cells": [
  {
   "cell_type": "markdown",
   "metadata": {},
   "source": [
    "# Modellierung von verteilten Systemen"
   ]
  },
  {
   "cell_type": "code",
   "execution_count": 1,
   "metadata": {},
   "outputs": [
    {
     "data": {
      "text/plain": [
       "nil"
      ]
     },
     "execution_count": 1,
     "metadata": {},
     "output_type": "execute_result"
    }
   ],
   "source": [
    "; internal setup\n",
    "(do (require '[clojupyter.misc.helper :as helper])\n",
    "    (require '[cemerick.pomegranate :as pom])\n",
    "    (helper/add-dependencies '[org.clojure/test.check \"0.9.0\"])\n",
    "    (helper/add-dependencies '[org.clojure/math.combinatorics \"0.1.4\"])\n",
    "    (helper/add-dependencies '[progrock \"0.1.2\"])\n",
    "    (helper/add-dependencies '[me.lomin/sayang \"0.3.0\"])\n",
    "    (pom/add-classpath \"src\")\n",
    "    (require '[me.lomin.piggybank.accounting.doc :as a-doc]))"
   ]
  },
  {
   "cell_type": "markdown",
   "metadata": {},
   "source": [
    "Durch die Trends Microservices und Serverless sowie die häufigere Verwendung von Datenbanken, die aufgrund bestimmter Performance-Anforderungen nicht mehr über die traditionellen Konsistenzgarantien verfügen, werden sich Entwicklerteams immer häufiger mit den Problemen von verteilten Systemen auseinander setzen müssen. Zu diesen Problemen gehört auch, wie man Fehler über Servicegrenzen hinweg debuggen kann, oder wie es ermöglicht werden kann, dass die verschiedenen Services unabhängig voneinander deployt werden können. Dieser Artikel jedoch befasst sich mit zwei speziellen Fehlerkategorien, welche im besonderen Maß durch verteilte Systeme provozierten werden: Konsistenzfehler und Nebenläufigkeitsfehler.\n",
    "\n",
    "Diese Arten von Fehlern sind besonders schwierig zu reproduzieren, können unbemerkt zu Datenkorruption führen und sind mit den etablierten Testvorgehen kaum zu identifiziert.\n",
    "\n",
    "In der agilen Softwareentwicklung wird ein hohes Maß an technischer Qualität des Softwareinkrements gefordert. Dazu gehört insbesondere, dass die Software automatisiert auf der Ebene des Source-Codes (Unit Tests), im Verbund von Komponenten (Integration Tests) und aus der Perspektive des Kunden (Acceptance Tests) getestet wird. Der Umfang der jeweiligen Testkategorie wird anhand der Testpyramide verdeutlicht:\n",
    "\n",
    "![Test Pyramide](https://www.borisgloger.com/wp-content/uploads/blog/Testp-300x281-300x281.jpeg \"Test Pyramide\")\n",
    "\n",
    "Es wurde die Form einer Pyramide gewählt wurde, weil der Großteil der Tests eines Systems aus Unit Tests bestehen sollte. Entsprechen die Unit Tests den FIRST-Kriterien, so liefern Unit Tests am schnellsten und zuverlässigsten Feedback. Zwar liefern Integrationsstests und besonders Akzeptanztests am langsamsten Feedback, dafür \n",
    "\n",
    "Zwar liefern Akzeptanztests am langsamsten Feedback und ihre Pflege gestaltet sich am aufwändigsten, dafür sind die Tests am nächsten zur Realität. Ein Akzeptanztests greift auf die gleichen Testmöglichkeiten wir ein menschlicher Tester oder ein Benutzer des Systems zurück.\n",
    "\n",
    "Integrationsstests stellen einen Mittelweg zwischen Unit Tests und Akzeptanztests dar. Mit Integrationsstest testet man das technische Zusammenspiel von Komponenten oder Services, jedoch nicht über die Benutzeroberfläche des Systems, sondern ähnlich wie bei Unit Tests in einem künstlich erzeugten Test-Setup. Das Setup ist weniger künstlich als bei Unit Tests, jedoch nicht so realitätsnah wie bei Akzeptanztest.\n",
    "\n",
    "Der Begriff Testpyramide spiegelt den breiten Konsens innerhalb der agilen Entwicklungscommunity wieder, dass der beste Kompromiss zwischen Aufwand und Ertrag von Tests zu einer Verteilung von Unit Tests zu Integrationstests und Akzeptanztests zu der Form einer Pyramide führt.\n",
    "\n",
    "Damit Unit Tests schnell und zuverlässig Feedback liefern, sollten sie den FIRST-Kriterien entsprechen:\n",
    "\n",
    "* Fast: Unit Tests sollen schnell sein\n",
    "* Isolated: Unit Tests sollten unabhängig von externen Abhängigkeiten wie einer Datenbank sein\n",
    "* Repeatable: Unit Tests sollen wiederholbar, also deterministisch sein\n",
    "* Self Validating: Am Ende eines Unit Tests sollte dieser ein eindeutiges Ergebnis zurückliefern\n",
    "* Timely: Man sollte Unit Tests möglichst früh schreiben, am besten bereits vor dem Produktivcode\n",
    "\n",
    "Durch die FIRST-Kriterien wird klar, dass Unit Tests sowohl für Konsistenzfehler als auch für Nebenläufigkeitsfehler das falsche Werkzeug sind. Angenommen, man möchte ein System, das eine Datenbank mit dem Konsistenzmodell “Eventual Consistency” nutzt, auf Konsistenzfehler testen. Da ein Unit Test, aufgrund des Isolated-Kriteriums, keine Abhängigkeit zu einer Datenbank haben darf, kann das System nicht in Zusammenspiel mit der Datenbank in einem Unit Test geprüft werden. Der Workaround, stattdessen eine einer Attrappe der Datenbank zu verwenden, würde nur zu einem Gefühl der falschen Sicherheit verleiten, da das Verhalten der Datenbank in vielerlei Hinsicht nicht exakt nachgestellt werden kann. Auch zum Testen von Nebenläufigkeit sind Unit Tests eher ungeeignet, treten Nebenläufigkeitsprobleme doch vor allem zufällig und indeterministisch auf. Genau diese Eigenschaften schließt das Repeatable-Kriterium aber aus.\n",
    "\n",
    "Sowohl für Integrationstests als auch noch stärker für Akzeptanztest gilt, dass auf dieser Ebene die Kombination der möglichen Setups, Schritte und Konstellationen zu so einer hohen Zahl an Testkombinationen führt, dass die Wahrscheinlichkeit gering ist, alle Konsistenz- und Nebenläufigkeitsfehler zu entdecken.\n",
    "\n",
    "## Modellierung als Alternative zur Testpyramide\n",
    "\n",
    "Eine Alternative zum Testen mit den Mitteln der Testpyramide stellt die Modellierung des verteilten oder nebenläufigen Systems dar. Das bedeutet, man abstrahiert von dem konkreten Code und konzentriert sich auf das Verhalten und die Eigenschaften des Systems. Dazu stellt man folgende Fragen:\n",
    "Welche Events können auftreten?\n",
    "Wie ist der Zustand des Systems nach einem bestimmten Event?\n",
    "Welche Bedingung muss das System schlussendlich und welche Bedingungen jederzeit erfüllen?\n",
    "Die Antworten auf diese Fragen bilden ein Modell des zu testenden Systems. Ein Modellprüfer kann damit jegliche Kombination von Events generieren und automatisiert testen, ob nach jedem Event die erforderlichen Bedingungen an den Zustand des Systems erfüllt sind. Findet der Modellprüfer eine Verletzung einer Bedingung, so hat man einen logischen Fehler im Design des Systems gefunden. Findet der Modellprüfer keinen Fehler, so erfüllt das Design des Systems die formulierten Bedingungen und die Übersetzung des Designs in die gewünschte Programmiersprache und Laufzeitumgebung kann beginnen. Da bei der Implementierung des Designs Übersetzungsfehler passieren könnten, die das geprüfte Modell verletzen würden, kann man auf die Werkzeuge der Testpyramide weiterhin nicht verzichten.\n",
    "\n",
    "Um den Nutzen und die konkrete Anwendung von Modellierung im Zusammenspiel mit einem Modellprüfer zu demonstrieren, werden im folgenden zwei Beispiele behandelt. Das erste Beispiel überprüft ein verteiltes System auf Konsistenzverletzungen, das zweite Beispiel zeigt auf, wie man Nebenläufigkeitsfehler identifizieren und ausschließen kann.\n",
    "\n",
    "## Beispiel 1: Konsistenz im verteilten System\n",
    "\n",
    "Als Beispiel für ein verteiltes Systems soll ein digitales Sparschwein mit Buchhalterfunktion für Familien dienen. Um das Beispiel möglichst einfach zu halten, muss das Sparschwein ausschließliche die Einzahlung und die Abhebung von 1-Euro-Münzen unterstützen. Jede Einzahlung und Abhebung wird als Event in einem Dokument einer Dokumentendatenbank festgehalten. Dadurch können alle Ein- und Auszahlungen des Sparschweins nachvollzogen werden. Es darf nicht möglich sein, dass ein Nutzer einen Euro abhebt, obwohl keine Münzen mehr im Sparschwein sind. Die Prüfung dieser Bedingung soll über eine andere Datenbank erfolgen, welche nur den aktuellen Betrag innerhalb des Sparschweins festhält.\n",
    "\n",
    "Wie eingangs erwähnt, sind folgende Fragen zu beantworten:\n",
    "\n",
    "1. Welche Events können auftreten?\n",
    "1. Wie ist der Zustand des Systems nach einem bestimmten Event?\n",
    "1. Welche Bedingung muss das System schlussendlich und welche Bedingungen jederzeit erfüllen?\n",
    "\n",
    "Im folgendem starten wir den Modellierungsprozess und finden Antworten auf diese 3 Fragen.\n",
    "\n",
    "### Welche Events können auftreten?\n",
    "\n",
    "Um die erste Frage zu beantworten, sind wir bereits gezwungen, das System auf einer hohen Abstraktionsebene in Schritte zu modellieren. Dadurch erkennen wir auch, welche Schritte atomar sind und welche nicht. Beispielsweise können wir nicht gleichzeitig aus einer Dokumentendatenbank lesen und gleichzeitig in diese schreiben. Würde man allein diesen Modellierungsschritt gehen, ließen sich bereits dadurch viele Fehler im Design eines verteilten Systems vermeiden.\n",
    "\n",
    "In unserem vorliegenden Fall kann man die Events aus den Schritten ableiten, die ein mögliches Buchhaltersparschweinsystem durchführen würde.\n",
    "\n",
    "\n",
    "\n",
    "Für jede Transaktionsanfrage eines Nutzers werden diese Schritte ausgeführt. Das System hat keinen Einfluss zu welchem Zeitpunkt Transaktionsanfragen an das System gestellt werden. Das System bestimmt aber, welche Schritte danach ausgeführt werden, in welcher Reihenfolge und ob dies synchron oder asynchron geschieht. Diese Festlegungen bezeichnen wir als \"Event-Modell”.\n",
    "\n",
    "* Der Inhalt des Sparschweins wurde ausgelesen\n",
    "* Familienmitglieder haben die Anfrage zur Einzahlung eines Euros gestellt\n",
    "* Familienmitglieder haben die Anfrage zur Abhebung eines Euros gestellt\n",
    "* Aus der Dokumentendatenbank wurde das aktuelle Dokument ausgelesen\n",
    "* Eine Transaktion (Abhebung oder Einzahlung) wurde festgehalten\n",
    "* Der Betrag des Sparschweins wurde aktualisiert\n",
    "\n",
    "Wir modellieren die Events absichtlich als Ereignisse, die erfolgreich stattgefunden haben. Später wird klarer werden, warum wir die Events nicht als Anweisungen wie z.B. “Halte Transaktion fest” modellieren.\n",
    "\n",
    "Um diese Events als Datenstrukturen zu modellieren, nutze ich die Programmiersprache Clojure. Diese Sprache verfügt über nur wenig Syntax und man kann Datenstrukturen kurz und prägnant darstellen. Funktionsaufrufe in Clojure folgen der Prefix-Notation. Statt"
   ]
  },
  {
   "cell_type": "markdown",
   "metadata": {},
   "source": [
    "```\n",
    "f (x, y)\n",
    "```"
   ]
  },
  {
   "cell_type": "markdown",
   "metadata": {},
   "source": [
    "schreibt man"
   ]
  },
  {
   "cell_type": "markdown",
   "metadata": {},
   "source": [
    "```clojure\n",
    "(f x y)\n",
    "```"
   ]
  },
  {
   "cell_type": "markdown",
   "metadata": {},
   "source": [
    "ein Vektor wird so dargestellt:"
   ]
  },
  {
   "cell_type": "code",
   "execution_count": 2,
   "metadata": {},
   "outputs": [
    {
     "data": {
      "text/plain": [
       "[1 2 3]"
      ]
     },
     "execution_count": 2,
     "metadata": {},
     "output_type": "execute_result"
    }
   ],
   "source": [
    "[1 2 3]"
   ]
  },
  {
   "cell_type": "markdown",
   "metadata": {},
   "source": [
    "und eine Set (eine Menge von Elementen) so:"
   ]
  },
  {
   "cell_type": "code",
   "execution_count": 3,
   "metadata": {},
   "outputs": [
    {
     "data": {
      "text/plain": [
       "#{1 3 2}"
      ]
     },
     "execution_count": 3,
     "metadata": {},
     "output_type": "execute_result"
    }
   ],
   "source": [
    "#{1 2 3}"
   ]
  },
  {
   "cell_type": "markdown",
   "metadata": {},
   "source": [
    "Dokumente, in anderen Sprachen auch als Maps, Dicts, oder Records bezeichnet, lassen sich wie folgt darstellen:"
   ]
  },
  {
   "cell_type": "code",
   "execution_count": 4,
   "metadata": {},
   "outputs": [
    {
     "data": {
      "text/plain": [
       "{\"key0\" \"value0\", \"key1\" \"value1\"}"
      ]
     },
     "execution_count": 4,
     "metadata": {},
     "output_type": "execute_result"
    }
   ],
   "source": [
    "{\"key0\" \"value0\" \"key1\" \"value1\"}"
   ]
  },
  {
   "cell_type": "markdown",
   "metadata": {},
   "source": [
    "Keys sind nicht auf Strings beschränkt. Ein Vektor, eine Menge oder eine Map können auch Keys oder Values einer Map sein:"
   ]
  },
  {
   "cell_type": "code",
   "execution_count": 5,
   "metadata": {},
   "outputs": [
    {
     "data": {
      "text/plain": [
       "{[\"key\" 5] {\"inner-key\" \"value\"}}"
      ]
     },
     "execution_count": 5,
     "metadata": {},
     "output_type": "execute_result"
    }
   ],
   "source": [
    "{[\"key\" 5] {\"inner-key\" \"value\"}}"
   ]
  },
  {
   "cell_type": "markdown",
   "metadata": {},
   "source": [
    "Häufig werden Clojure Keywords als Schlüssel verwendet, da man mit Keywords sehr schnell Gleichheit feststellen kann und man einfach auf die Werte einer Map zugreifen kann. Keyword beginnen immer mit einem Doppelpunkt:"
   ]
  },
  {
   "cell_type": "code",
   "execution_count": 6,
   "metadata": {},
   "outputs": [
    {
     "data": {
      "text/plain": [
       ":key-0"
      ]
     },
     "execution_count": 6,
     "metadata": {},
     "output_type": "execute_result"
    }
   ],
   "source": [
    ":key-0"
   ]
  },
  {
   "cell_type": "code",
   "execution_count": 7,
   "metadata": {},
   "outputs": [
    {
     "data": {
      "text/plain": [
       "false"
      ]
     },
     "execution_count": 7,
     "metadata": {},
     "output_type": "execute_result"
    }
   ],
   "source": [
    "(= :key-0 :key-1)"
   ]
  },
  {
   "cell_type": "code",
   "execution_count": 8,
   "metadata": {},
   "outputs": [
    {
     "data": {
      "text/plain": [
       "true"
      ]
     },
     "execution_count": 8,
     "metadata": {},
     "output_type": "execute_result"
    }
   ],
   "source": [
    "(= :key-1 :key-1)"
   ]
  },
  {
   "cell_type": "code",
   "execution_count": 9,
   "metadata": {},
   "outputs": [
    {
     "data": {
      "text/plain": [
       "\"value\""
      ]
     },
     "execution_count": 9,
     "metadata": {},
     "output_type": "execute_result"
    }
   ],
   "source": [
    "(:key {:key \"value\"})"
   ]
  },
  {
   "cell_type": "markdown",
   "metadata": {},
   "source": [
    "Die oben Events auf dem Event-Modell werden dementsprechend wie folgt als Datenstrukturen modelliert:"
   ]
  },
  {
   "cell_type": "code",
   "execution_count": 10,
   "metadata": {},
   "outputs": [
    {
     "name": "stdout",
     "output_type": "stream",
     "text": [
      "(defn example-accounting-events []\n",
      "  [:process\n",
      "   {:amount 1, :process-id 0}\n",
      "   :doc\n",
      "   \"Eine Anfrage mit der Prozess-Id 0 zur Einzahlung von 1 Euro wurde gestartet.\"]\n",
      "  [:process\n",
      "   {:amount -1, :process-id 1}\n",
      "   :doc\n",
      "   \"Eine Anfrage mit der Prozess-Id 1 zur Abhebung von 1 Euro wurde gestartet.\"]\n",
      "  [:accounting-read\n",
      "   {:amount 1, :process-id 0}\n",
      "   :doc\n",
      "   \"Die notwendigen Daten aus dem Buchhaltungssystem wurden abgefragt. Das Ergebnis der Abfrage wurde abgelegt. Ausgelöst wurde dieses Event durch den Prozess mit der Prozess-Id 0.\"]\n",
      "  [:accounting-write\n",
      "   {:amount 1, :process-id 0}\n",
      "   :doc\n",
      "   \"Die Transaktion wurde im Buchhaltungssystem festgehalten.\"]\n",
      "  [:balance-write\n",
      "   {:amount 1, :process-id 0}\n",
      "   :doc\n",
      "   \"Das Saldo des Sparschweins wurde aktualisiert.\"])\n"
     ]
    },
    {
     "data": {
      "text/plain": [
       "\"listing-1\""
      ]
     },
     "execution_count": 10,
     "metadata": {},
     "output_type": "execute_result"
    }
   ],
   "source": [
    "(a-doc/print-accounting-events)"
   ]
  },
  {
   "cell_type": "markdown",
   "metadata": {},
   "source": [
    "### Wie ist der Zustand des Systems nach einem bestimmten Event?\n",
    "\n",
    "Das Buchhaltungssystem speichert die Einzahlungen und Abhebung in einem Dokument einer Dokumentendatenbank. Auch das Buchhaltungssystems kann man als Datenstruktur modellieren. Ein Beispiel:"
   ]
  },
  {
   "cell_type": "code",
   "execution_count": 11,
   "metadata": {},
   "outputs": [
    {
     "name": "stdout",
     "output_type": "stream",
     "text": [
      "{:accounting {:transfers {0 1, 1 -1}}}\n"
     ]
    },
    {
     "data": {
      "text/plain": [
       "\"listing-2\""
      ]
     },
     "execution_count": 11,
     "metadata": {},
     "output_type": "execute_result"
    }
   ],
   "source": [
    "(a-doc/accounting-subsystem)"
   ]
  },
  {
   "cell_type": "markdown",
   "metadata": {},
   "source": [
    "Dieser Datenstruktur kann man entnehmen, dass der Prozess mit der ID 0 eine Einzahlung von einem Euro und der Prozess mit der ID 1 eine Abhebung von einem Euro zur Folge hatte.\n",
    "\n",
    "Den aktuellen Eurowert des Sparschweins nennen wir \"Balance” und dieser soll in einer eigenen Datenbank festgehalten werden. Da es sich nur um einen Wert handelt, ist es egal, ob wir von einer Dokumentendatenbank, einem Key-Value-Store oder einer relationalen Datenbank ausgehen. Wir modellieren den Zustand der Datenbank folgendermaßen:"
   ]
  },
  {
   "cell_type": "code",
   "execution_count": 12,
   "metadata": {},
   "outputs": [
    {
     "name": "stdout",
     "output_type": "stream",
     "text": [
      "{:balance {:amount 0}}\n"
     ]
    },
    {
     "data": {
      "text/plain": [
       "\"listing-3\""
      ]
     },
     "execution_count": 12,
     "metadata": {},
     "output_type": "execute_result"
    }
   ],
   "source": [
    "(a-doc/balance-subsystem)"
   ]
  },
  {
   "cell_type": "markdown",
   "metadata": {},
   "source": [
    "Wir vereinen das Modell der Buchhaltung und das Modell des aktuellen Inhalts des Sparschweins in einer Datenstruktur, die wir Universum nennen:"
   ]
  },
  {
   "cell_type": "code",
   "execution_count": 13,
   "metadata": {},
   "outputs": [
    {
     "name": "stdout",
     "output_type": "stream",
     "text": [
      "{:accounting {:transfers {0 1, 1 -1}}, :balance {:amount 0}}\n"
     ]
    },
    {
     "data": {
      "text/plain": [
       "\"listing-4\""
      ]
     },
     "execution_count": 13,
     "metadata": {},
     "output_type": "execute_result"
    }
   ],
   "source": [
    "(a-doc/universe-0)"
   ]
  },
  {
   "cell_type": "markdown",
   "metadata": {},
   "source": [
    "Die Events, die wir anhand der ersten Modellierungsfrage identifiziert haben, verändern das Universum. Wenn beispielsweise im oben beschriebenen Beispieluniversum das Event"
   ]
  },
  {
   "cell_type": "code",
   "execution_count": 14,
   "metadata": {},
   "outputs": [
    {
     "name": "stdout",
     "output_type": "stream",
     "text": [
      "[:accounting-write {:amount 1, :process-id 5}]\n"
     ]
    },
    {
     "data": {
      "text/plain": [
       "\"listing-5\""
      ]
     },
     "execution_count": 14,
     "metadata": {},
     "output_type": "execute_result"
    }
   ],
   "source": [
    "(a-doc/event-0)"
   ]
  },
  {
   "cell_type": "markdown",
   "metadata": {},
   "source": [
    "stattgefunden hat, verändert sich das Universum dementsprechend wie folgt:"
   ]
  },
  {
   "cell_type": "code",
   "execution_count": 15,
   "metadata": {},
   "outputs": [
    {
     "name": "stdout",
     "output_type": "stream",
     "text": [
      "{:accounting {:transfers {0 1, 1 -1, 5 1}}, :balance {:amount 1}}\n"
     ]
    },
    {
     "data": {
      "text/plain": [
       "\"listing-6\""
      ]
     },
     "execution_count": 15,
     "metadata": {},
     "output_type": "execute_result"
    }
   ],
   "source": [
    "(a-doc/universe-after-update)"
   ]
  },
  {
   "cell_type": "markdown",
   "metadata": {},
   "source": [
    "### Welche Bedingung muss das System schlussendlich und welche Bedingungen jederzeit erfüllen?\n",
    "\n",
    "Eine Bedingungen haben wir bereits angesprochen: Man kann nicht mehr Münzen aus dem Sparschwein nehmen, als tatsächlich vorhanden sind\n",
    "\n",
    "Es gibt aber noch weitere:\n",
    "\n",
    "* Die Münztransaktionen werden in einem Dokument einer Dokumentendatenbank festgehalten. Diese Datenbank bietet Datenbanktransaktionssicherheit auf Dokumentenebene an. Das bedeutet, man kann keine zwei Dokumente gleichzeitig verändern. Versucht man es trotzdem, kann es passieren, dass ein Dokument verändert wird, beim Ändern des zweiten aber ein Fehler auftritt und die Änderung nicht übernommen wird. Die Änderung des ersten Dokumentes kann nicht automatisiert durch die Datenbank rückgängig gemacht werden. Für die Dokumentendatenbank waren das zwei unterschiedliche Transaktionen.\n",
    "* Wenn eine Münztransaktionen einmal in ein Buchhaltungsdokument eingetragen wurde, darf diese Münztransaktion nicht mehr aus dem Buchhaltungsdokument entfernt werden"
   ]
  },
  {
   "cell_type": "markdown",
   "metadata": {},
   "source": [
    "## Automatisierte Schwachstellen im Design mithilfe eines Modellcheckers finden\n",
    "\n",
    "Auch wenn allein durch den Modellierungsprozess Klarheit über Fehlerquellen geschaffen wurden, so wollen wir noch einen Schritt weitergehen und unser Event-Modell automatisiert prüfen. Dazu müssen wir uns erst einmal eine Vorstellung machen, wie wir Zeit und insbesondere Gleichzeitigkeit modellieren.\n",
    "\n",
    "Die erste Idee ist es, die Zeit als aufeinander folgende atomare Zeitfenster vorzustellen. In einem Zeitfenster hat genau ein Event stattgefunden. Die Folge an aufeinanderfolgenden Zeitfenstern bezeichnen wir als Zeitstrahl. Hier ein Beispiel für einen konkreten Zeitstrahl"
   ]
  },
  {
   "cell_type": "code",
   "execution_count": 16,
   "metadata": {},
   "outputs": [
    {
     "name": "stdout",
     "output_type": "stream",
     "text": [
      "[[:process {:amount -1, :process-id 0}]\n",
      " [:process {:amount 1, :process-id 1}]\n",
      " [:process {:amount -1, :process-id 2}]]\n"
     ]
    },
    {
     "data": {
      "text/plain": [
       "\"listing-7\""
      ]
     },
     "execution_count": 16,
     "metadata": {},
     "output_type": "execute_result"
    }
   ],
   "source": [
    "(a-doc/example-timeline-0)"
   ]
  },
  {
   "cell_type": "markdown",
   "metadata": {},
   "source": [
    "Dieser Zeitstrahl besteht aus drei Zeitfenstern mit drei unterschiedlichen Events des gleichen Typs."
   ]
  },
  {
   "cell_type": "markdown",
   "metadata": {},
   "source": [
    "Ein häufiges Problem bei verteilten Systemen ist die Nichtberücksichtigung von gleichzeitig auftretenden Vorgängen. Es stellt sich also die Frage, wie man mit der oben formulierten Vorstellung von Zeit gleichzeitig auftretende Ereignisse modelliert. Dazu schauen wir uns einen anderen Zeitstrahl an:"
   ]
  },
  {
   "cell_type": "code",
   "execution_count": 17,
   "metadata": {},
   "outputs": [
    {
     "name": "stdout",
     "output_type": "stream",
     "text": [
      "[[:process {:amount 1, :process-id 0}]\n",
      " [:process {:amount -1, :process-id 1}]\n",
      " [:accounting-write {:amount 1, :process-id 0}]\n",
      " [:accounting-write {:amount -1, :process-id 1}]]\n"
     ]
    },
    {
     "data": {
      "text/plain": [
       "\"listing-8\""
      ]
     },
     "execution_count": 17,
     "metadata": {},
     "output_type": "execute_result"
    }
   ],
   "source": [
    "(a-doc/example-timeline-1)"
   ]
  },
  {
   "cell_type": "markdown",
   "metadata": {},
   "source": [
    "Dieser Zeitstrahl sagt aus, dass zuerst die Münztransaktion mit der ID 0 gespeichert wird und dann die Münztransaktion mit der ID 1. Wie kann man aber modellieren, dass beide Münztransaktion gleichzeitig gespeichert werden? Zur Hälfte haben wir das bereits. Der Zeitstrahl in Listing X sagt sowohl aus, dass die Münztransaktion 1 nach der Münztransaktion 0 erfolgt ist, also auch, dass beide Münztransaktionen gleichzeitig erfolgt sind und sich die beiden schreibenden Zugriffe gegenseitig überschrieben haben, mit Münztransaktion 1 als sichtbaren Gewinner dieses konkurrierenden Zugriffes. Wenn aber die Münztransaktionen 0 und 1 exakt gleichzeitig erfolgt sind, hätte es aber genauso gut sein können, dass Münztransaktion 0 der sichtbare Gewinner dieses konkurrierenden Zugriffes hätte sein können. Durch Gleichzeitigkeit zweier Ereignisse entstehen also zwei gleichwertige Paralleluniversen. Da ein Universum durch die aufeinanderfolgende Anwendung der Ereignisse eines Zeitstrahls entsteht, müssen wir garantieren, dass wir neben dem Zeitstrahl aus listing-example-timeline-1 einen weiteren Zeitstrahl betrachten, der folgendermaßen aussieht:"
   ]
  },
  {
   "cell_type": "code",
   "execution_count": 18,
   "metadata": {},
   "outputs": [
    {
     "name": "stdout",
     "output_type": "stream",
     "text": [
      "[[:process {:amount 1, :process-id 0}]\n",
      " [:process {:amount -1, :process-id 1}]\n",
      " [:accounting-write {:amount -1, :process-id 1}]\n",
      " [:accounting-write {:amount 1, :process-id 0}]]\n"
     ]
    },
    {
     "data": {
      "text/plain": [
       "\"listing-9\""
      ]
     },
     "execution_count": 18,
     "metadata": {},
     "output_type": "execute_result"
    }
   ],
   "source": [
    "(a-doc/example-timeline-2)"
   ]
  },
  {
   "cell_type": "markdown",
   "metadata": {},
   "source": [
    "Ein Konzept fehlt noch. Wir benötigen noch ein Nicht-Event. Dieses ist notwendig, um zum Beispiel modellieren zu können, dass ein Datenbankzugriff verzögert wird oder fehlschlägt. Solch ein Event wird als \"Stuttering\" bezeichnet."
   ]
  },
  {
   "cell_type": "markdown",
   "metadata": {},
   "source": [
    "Der folgende Zeitstrahl beschreibt beispielsweise ein Szenario, in dem die Buchhaltunsdatenbank nicht erreichbar ist:"
   ]
  },
  {
   "cell_type": "code",
   "execution_count": 19,
   "metadata": {},
   "outputs": [
    {
     "name": "stdout",
     "output_type": "stream",
     "text": [
      "[[:process {:amount -1, :process-id 0}] [:stuttering] [:stuttering]]\n"
     ]
    },
    {
     "data": {
      "text/plain": [
       "\"listing-10\""
      ]
     },
     "execution_count": 19,
     "metadata": {},
     "output_type": "execute_result"
    }
   ],
   "source": [
    "(a-doc/accounting-db-down-timeline)"
   ]
  },
  {
   "cell_type": "markdown",
   "metadata": {},
   "source": [
    "Nun haben wir alle Voraussetzungen erfüllt, um unsere Event-Modelle automatisiert prüfen zu lassen."
   ]
  },
  {
   "cell_type": "markdown",
   "metadata": {},
   "source": [
    "## Das erste Event-Modell: Nebenläufig"
   ]
  },
  {
   "cell_type": "markdown",
   "metadata": {},
   "source": [
    "Das erste Event-Modell beschreibt die erste Idee einer Architektur unseres verteilten System. Als Datenbank für die Buchhaltung ist eine Dokumentendatenbank gesetzt. Als Datenbank für den Saldo entscheiden wir uns für eine relationale Datenbank. Die Nutzeranfragen werden von mehreren Instanzen des von uns entwickelten Sparschweinservices entgegengenommen, bearbeitet und in die jeweiligen Datenbanken geschrieben:\n",
    "\n",
    "![Nebenläufige Architektur](images/concurrent_piggybank.jpg \"Nebenläufige Architektur\")"
   ]
  },
  {
   "cell_type": "markdown",
   "metadata": {},
   "source": [
    "Das Event-Modell, das diese Architektur beschreibt, formulieren wir als Datenstruktur mithilfe einer Clojure Map:"
   ]
  },
  {
   "cell_type": "code",
   "execution_count": 20,
   "metadata": {},
   "outputs": [
    {
     "name": "stdout",
     "output_type": "stream",
     "text": [
      "(def multi-threaded-simple-model\n",
      " (make-model\n",
      "   {START\n",
      "    (all\n",
      "      (generate-incoming\n",
      "        multi-threaded\n",
      "        [:process {:amount 1}]\n",
      "        [:process {:amount -1}])\n",
      "      (always [:stuttering])),\n",
      "    :process (all (then :accounting-read)),\n",
      "    :accounting-read (all (then :accounting-write)),\n",
      "    :accounting-write (all (then :balance-write)),\n",
      "    :balance-write (continue)}))\n"
     ]
    },
    {
     "data": {
      "text/plain": [
       "\"listing-11\""
      ]
     },
     "execution_count": 20,
     "metadata": {},
     "output_type": "execute_result"
    }
   ],
   "source": [
    "(a-doc/multi-threaded-simple-model)"
   ]
  },
  {
   "cell_type": "markdown",
   "metadata": {},
   "source": [
    "Dieses Modell sagt aus, dass zu jeder Zeit Nutzeranfragen mit Einzahlungen (```{:euro 1}```) oder Abhebungen (```{:euro -1}```) eintreffen können, sowie dass das Nicht-Event ```[:stuttering]``` jederzeit auftreten kann. Jede Nutzeranfragen wird mit einer eindeutigen ID versehen. Alle Events eines Zeitstrahls mit der gleichen ID bezeichnen wir als \"Prozess\". Unser Service wird nicht von selbst die Buchhaltung anfragen; das wird erst durch das Event ```:transaktion-gestartet``` ausgelöst. Das wird durch den Funktionsaufruf ```(then :accounting-read)``` modelliert. Die Funktion ```(all (x) (y) (z))``` sagt aus, dass alles in x, y und z gleichermaßen passieren kann. Im Gegensatz dessen werden wir in späteren Modellen die Funktion ```(choose (x) (y) (z))``` verwenden, die beschreibt, dass nur eins von x, y, oder z passieren kann."
   ]
  },
  {
   "cell_type": "markdown",
   "metadata": {},
   "source": [
    "Um zu verdeutlichen, welche Zeitstrahlen aus ein Modell resultieren, folgend ein vereinfachtes Beispielmodell:"
   ]
  },
  {
   "cell_type": "code",
   "execution_count": 21,
   "metadata": {},
   "outputs": [
    {
     "name": "stdout",
     "output_type": "stream",
     "text": [
      "(def reduced-multi-threaded-simple-model\n",
      " (make-model\n",
      "   {START\n",
      "    (all\n",
      "      (generate-incoming multi-threaded [:process {:amount 1}])\n",
      "      (always [:stuttering])),\n",
      "    :process (all (then :accounting-read)),\n",
      "    :accounting-read (all (then :accounting-write)),\n",
      "    :accounting-write (continue)}))\n"
     ]
    },
    {
     "data": {
      "text/plain": [
       "\"listing-12\""
      ]
     },
     "execution_count": 21,
     "metadata": {},
     "output_type": "execute_result"
    }
   ],
   "source": [
    "(a-doc/reduced-multi-threaded-simple-model)"
   ]
  },
  {
   "cell_type": "markdown",
   "metadata": {},
   "source": [
    "Dieses Modell würde zu folgenden Zeitstrahlen der Länge 2 führen:"
   ]
  },
  {
   "cell_type": "code",
   "execution_count": 22,
   "metadata": {},
   "outputs": [
    {
     "name": "stdout",
     "output_type": "stream",
     "text": [
      "#{[[:process {:amount 1, :process-id 0}]\n",
      "   [:process {:amount 1, :process-id 1}]]\n",
      "  [[:stuttering] [:stuttering]]\n",
      "  [[:process {:amount 1, :process-id 0}]\n",
      "   [:accounting-read {:amount 1, :process-id 0}]]\n",
      "  [[:stuttering] [:process {:amount 1, :process-id 0}]]\n",
      "  [[:process {:amount 1, :process-id 0}] [:stuttering]]}\n"
     ]
    },
    {
     "data": {
      "text/plain": [
       "\"listing-13\""
      ]
     },
     "execution_count": 22,
     "metadata": {},
     "output_type": "execute_result"
    }
   ],
   "source": [
    "(a-doc/timelines-reduced-multi-threaded-simple-model 2)"
   ]
  },
  {
   "cell_type": "markdown",
   "metadata": {},
   "source": [
    "Ein möglicher Zeitstrahl der Länge 4 für das vereinfachte Event-Modell ist"
   ]
  },
  {
   "cell_type": "code",
   "execution_count": 23,
   "metadata": {},
   "outputs": [
    {
     "name": "stdout",
     "output_type": "stream",
     "text": [
      "[[:process {:amount 1, :process-id 0}]\n",
      " [:stuttering]\n",
      " [:stuttering]\n",
      " [:stuttering]]\n"
     ]
    },
    {
     "data": {
      "text/plain": [
       "\"listing-14\""
      ]
     },
     "execution_count": 23,
     "metadata": {},
     "output_type": "execute_result"
    }
   ],
   "source": [
    "(a-doc/valid-sample-timeline-reduced-multi-threaded-simple-model 4)"
   ]
  },
  {
   "cell_type": "markdown",
   "metadata": {},
   "source": [
    "Der Zeitstrahl"
   ]
  },
  {
   "cell_type": "code",
   "execution_count": 24,
   "metadata": {},
   "outputs": [
    {
     "name": "stdout",
     "output_type": "stream",
     "text": [
      "(defn invalid-sample-timeline-reduced-multi-threaded-simple-model []\n",
      "  [[:process {:amount 1, :process-id 0}]\n",
      "   [:process {:amount 1, :process-id 1}]\n",
      "   [:accounting-read {:amount 1, :process-id 0}]\n",
      "   [:accounting-read {:amount 1, :process-id 0}]])\n"
     ]
    },
    {
     "data": {
      "text/plain": [
       "\"listing-15\""
      ]
     },
     "execution_count": 24,
     "metadata": {},
     "output_type": "execute_result"
    }
   ],
   "source": [
    "(a-doc/print-invalid-sample-timeline-reduced-multi-threaded-simple-model)"
   ]
  },
  {
   "cell_type": "markdown",
   "metadata": {},
   "source": [
    "ist jedoch mit dem formulierten Event-Modell nicht möglich. Nach dem Event ```[:accounting-read {:amount 1, :process-id 0}]``` kann es kein ```:accounting-read``` Event mit der ID 0 mehr geben."
   ]
  },
  {
   "cell_type": "markdown",
   "metadata": {},
   "source": [
    "Nachdem wir das Event-Modell unseres nebenläufigen, zustandslosen Sparschweinservice beschrieben haben, können wir die Bedingungen automatisiert prüfen, die wir in Abschnitt Bedingungen formuliert haben. Dazu lassen wir alle möglichen Zeitstrahlen generieren, interpretieren die Events entlang des Zeitstrahls und erzeugen für jedes Zeitfenster ein neues Universum, für welches wir alle formulierten Bedingungen prüfen. Zusätzlich bauen wir noch in den Interpreter ein, dass das Event ```:accounting-read``` auch den Abschluss der Saldo-Prüfung bedeutet. War die Saldo-Prüfung negativ, werden alle folgenden Events des entsprechenden Prozess ignoriert. Dadurch können wir die Trennung zwischen allen möglichen Events, welche nur Abhängig vom Event-Modell sind, und der Interpretation der Events, welche abhängig vom Zustand des Universums ist, aufrecht erhalten."
   ]
  },
  {
   "cell_type": "markdown",
   "metadata": {},
   "source": [
    "Der Model-Checker kommt zu folgendem Ergebnis:"
   ]
  },
  {
   "cell_type": "code",
   "execution_count": 36,
   "metadata": {},
   "outputs": [
    {
     "name": "stdout",
     "output_type": "stream",
     "text": [
      "\n",
      "{:check-count 64938,\n",
      " :max-check-count 311171,\n",
      " :property-violated\n",
      " {:name :there-must-be-no-lost-updates,\n",
      "  :timeline\n",
      "  [[:process {:amount 1, :process-id 0}]\n",
      "   [:process {:amount 1, :process-id 1}]\n",
      "   [:accounting-read {:amount 1, :process-id 0}]\n",
      "   [:accounting-read {:amount 1, :process-id 1}]\n",
      "   [:accounting-write {:amount 1, :process-id 0}]\n",
      "   [:balance-write {:amount 1, :process-id 0}]\n",
      "   [:accounting-write {:amount 1, :process-id 1}]]},\n",
      " :accounting {:transfers {1 1}},\n",
      " :balance {:amount 1, :processes #{0}}}\n"
     ]
    },
    {
     "data": {
      "text/plain": [
       "\"listing-24\""
      ]
     },
     "execution_count": 36,
     "metadata": {},
     "output_type": "execute_result"
    }
   ],
   "source": [
    "(a-doc/check-multi-threaded-simple-model)"
   ]
  },
  {
   "cell_type": "markdown",
   "metadata": {},
   "source": [
    "Insgesamt gibt es 44.453 mögliche Zeitstrahlen der Länge 7, was zu 311.171 zu prüfenden Zeitfenstern führt. Nach"
   ]
  },
  {
   "cell_type": "code",
   "execution_count": 26,
   "metadata": {},
   "outputs": [
    {
     "name": "stdout",
     "output_type": "stream",
     "text": [
      " 62234/311171    19% [=========                                         ]  ETA: 00:07"
     ]
    },
    {
     "data": {
      "text/plain": [
       "64938"
      ]
     },
     "execution_count": 26,
     "metadata": {},
     "output_type": "execute_result"
    }
   ],
   "source": [
    "(a-doc/number-of-checked-time-slots)"
   ]
  },
  {
   "cell_type": "markdown",
   "metadata": {},
   "source": [
    "geprüften Zeitfenstern hat der Model-Checker einen Zeitstrahl gefunden, der zu einem Universum führt, welches mindestens eine Bedingung verletzt."
   ]
  },
  {
   "cell_type": "markdown",
   "metadata": {},
   "source": [
    "Der gefundene Zeitstrahl führt dazu, dass zwei Prozesse aus der Buchhaltungsdatenbank das gleiche Dokument lesen, dieses um ihre Münztransaktion ergänzen und zurückschreiben. Dabei überschreibt der Prozess 1 das Dokument, welches der Prozess 0 in die Buchhaltungsdatenbank geschrieben hat."
   ]
  },
  {
   "cell_type": "markdown",
   "metadata": {},
   "source": [
    "Um diese Verletzung erkennen zu können, fügen wir zu jeder Münztransaktion auch noch die Menge an IDs an, die zu dieser Transaktion geführt haben. Außerdem halten wir im Saldo-Modell die Menge an IDs fest, die zu einer Änderung des Saldos geführt haben. Diese Daten, die den Modellen nur hinzugefügt werden, damit man anhand dieser Verletzungen der Eigenschaften feststellen kann, sonst aber für das Modell irrelevant sind, bezeichnet man auch als “Ghost Data”. Wenn die Menge aller IDs aus den Büchern keine Supermenge der Menge der IDs aus dem Saldo-Modell ist, haben wir sogenannte “Lost Updates” vorliegen. Es ist ok, wenn das Saldo-Modell noch nicht alle Updates aus den Büchern widerspiegelt, aber im umgekehrten Fall ist es dadurch erwiesen, dass wir Updates aus den Büchern verloren haben."
   ]
  },
  {
   "cell_type": "code",
   "execution_count": 27,
   "metadata": {},
   "outputs": [
    {
     "name": "stdout",
     "output_type": "stream",
     "text": [
      "(defn lost-updates? [universe]\n",
      "  (not\n",
      "    (set/superset?\n",
      "      (all-event-ids-from-accounting universe)\n",
      "      (all-event-ids-from-balance universe))))\n"
     ]
    },
    {
     "data": {
      "text/plain": [
       "\"listing-17\""
      ]
     },
     "execution_count": 27,
     "metadata": {},
     "output_type": "execute_result"
    }
   ],
   "source": [
    "(a-doc/lost-updates?)"
   ]
  },
  {
   "cell_type": "markdown",
   "metadata": {},
   "source": [
    "## Das zweite Event-Modell: Single Writer"
   ]
  },
  {
   "cell_type": "markdown",
   "metadata": {},
   "source": [
    "Um dem Problem der Lost-Updates zu begegnen, gibt es verschiedene Möglichkeiten, die sich erheblich in ihrer Komplexität unterscheiden. Die simpelste Variante ist es, nur noch eine Instanz des Sparschweinservices mit nur einem schreibenden Thread zu betreiben. Dies wird auch als “Single Writer”-Pattern bezeichnet.\n",
    "\n",
    "In Listing 7 haben wir ein vereinfachtes Event-Modell beschrieben und Listing 8 zeigt alle  Zeitstrahlen der Länge 3, welche daraus folgen. Das gleiche Modell im Single Writer Mode würde so aussehen:"
   ]
  },
  {
   "cell_type": "code",
   "execution_count": 28,
   "metadata": {},
   "outputs": [
    {
     "name": "stdout",
     "output_type": "stream",
     "text": [
      "(def reduced-single-threaded-simple-model\n",
      " (make-model\n",
      "   {START\n",
      "    (all\n",
      "      (generate-incoming single-threaded [:process {:amount 1}])\n",
      "      (always [:stuttering])),\n",
      "    :process (all (then :accounting-read)),\n",
      "    :accounting-read (all (then :accounting-write)),\n",
      "    :accounting-write (continue)}))\n"
     ]
    },
    {
     "data": {
      "text/plain": [
       "\"listing-18\""
      ]
     },
     "execution_count": 28,
     "metadata": {},
     "output_type": "execute_result"
    }
   ],
   "source": [
    "(a-doc/reduced-single-threaded-simple-model)"
   ]
  },
  {
   "cell_type": "markdown",
   "metadata": {},
   "source": [
    "Dieses Modell würde zu folgenden Zeitstrahlen der Länge 3 führen:"
   ]
  },
  {
   "cell_type": "code",
   "execution_count": 37,
   "metadata": {},
   "outputs": [
    {
     "name": "stdout",
     "output_type": "stream",
     "text": [
      "#{[[:process {:amount 1, :process-id 0}]\n",
      "   [:accounting-read {:amount 1, :process-id 0}]\n",
      "   [:stuttering]]\n",
      "  [[:process {:amount 1, :process-id 0}]\n",
      "   [:stuttering]\n",
      "   [:accounting-read {:amount 1, :process-id 0}]]\n",
      "  [[:stuttering] [:stuttering] [:stuttering]]\n",
      "  [[:stuttering] [:stuttering] [:process {:amount 1, :process-id 0}]]\n",
      "  [[:stuttering]\n",
      "   [:process {:amount 1, :process-id 0}]\n",
      "   [:accounting-read {:amount 1, :process-id 0}]]\n",
      "  [[:process {:amount 1, :process-id 0}] [:stuttering] [:stuttering]]\n",
      "  [[:stuttering] [:process {:amount 1, :process-id 0}] [:stuttering]]\n",
      "  [[:process {:amount 1, :process-id 0}]\n",
      "   [:accounting-read {:amount 1, :process-id 0}]\n",
      "   [:accounting-write {:amount 1, :process-id 0}]]}\n"
     ]
    },
    {
     "data": {
      "text/plain": [
       "\"listing-25\""
      ]
     },
     "execution_count": 37,
     "metadata": {},
     "output_type": "execute_result"
    }
   ],
   "source": [
    "(a-doc/timelines-reduced-single-threaded-simple-model 3)"
   ]
  },
  {
   "cell_type": "markdown",
   "metadata": {},
   "source": [
    "Es gibt für dieses vereinfachte Modell nur"
   ]
  },
  {
   "cell_type": "code",
   "execution_count": 30,
   "metadata": {},
   "outputs": [
    {
     "data": {
      "text/plain": [
       "8"
      ]
     },
     "execution_count": 30,
     "metadata": {},
     "output_type": "execute_result"
    }
   ],
   "source": [
    "(a-doc/count-timelines-reduced-single-threaded-simple-model 3)"
   ]
  },
  {
   "cell_type": "markdown",
   "metadata": {},
   "source": [
    "statt"
   ]
  },
  {
   "cell_type": "code",
   "execution_count": 31,
   "metadata": {},
   "outputs": [
    {
     "data": {
      "text/plain": [
       "15"
      ]
     },
     "execution_count": 31,
     "metadata": {},
     "output_type": "execute_result"
    }
   ],
   "source": [
    "(a-doc/count-timelines-reduced-multi-threaded-simple-model 3)"
   ]
  },
  {
   "cell_type": "markdown",
   "metadata": {},
   "source": [
    "mögliche Zeitstrahlen. Deshalb prüfen wir das vereinfachte Modell mit einer größeren Zeitstrahllänge, beispielsweise mit 14 statt wie zuvor mit 7.\n",
    "\n",
    "Das gesamte Event-Modell unterscheidet sich nur in Zeile 1 von unserem ersten Event-Modell:"
   ]
  },
  {
   "cell_type": "code",
   "execution_count": 32,
   "metadata": {},
   "outputs": [
    {
     "name": "stdout",
     "output_type": "stream",
     "text": [
      "(def single-threaded-simple-model\n",
      " (make-model\n",
      "   {START\n",
      "    (all\n",
      "      (generate-incoming\n",
      "        single-threaded\n",
      "        [:process {:amount 1}]\n",
      "        [:process {:amount -1}])\n",
      "      (always [:stuttering])),\n",
      "    :process (all (then :accounting-read)),\n",
      "    :accounting-read (all (then :accounting-write)),\n",
      "    :accounting-write (all (then :balance-write)),\n",
      "    :balance-write (continue)}))\n"
     ]
    },
    {
     "data": {
      "text/plain": [
       "\"listing-20\""
      ]
     },
     "execution_count": 32,
     "metadata": {},
     "output_type": "execute_result"
    }
   ],
   "source": [
    "(a-doc/single-threaded-simple-model)"
   ]
  },
  {
   "cell_type": "markdown",
   "metadata": {},
   "source": [
    "Der Model-Checker liefert uns folgendes Ergebnis:"
   ]
  },
  {
   "cell_type": "code",
   "execution_count": 33,
   "metadata": {},
   "outputs": [
    {
     "name": "stdout",
     "output_type": "stream",
     "text": [
      "2190/2191    99% [================================================= ]  ETA: 00:00\n",
      "{:check-count 2191, :max-check-count 2191}\n"
     ]
    },
    {
     "data": {
      "text/plain": [
       "\"listing-21\""
      ]
     },
     "execution_count": 33,
     "metadata": {},
     "output_type": "execute_result"
    }
   ],
   "source": [
    "(a-doc/check-single-threaded-simple-model)"
   ]
  },
  {
   "cell_type": "markdown",
   "metadata": {},
   "source": [
    "Es wurden also keine Fehler gefunden. Wenn wir unser System nach dem Single-Writer-Prinzip entwerfen, würden wir keine unserer Bedingung verletzen. Durch Bugs in der Implementierung des tatsächlichen Systems könnten wir es dennoch schaffen, unsere Bedingungen zu verletzen, aber im Gegensatz zum nebenläufigen Design sind diese Fehler nicht Design-inherent."
   ]
  },
  {
   "cell_type": "markdown",
   "metadata": {},
   "source": [
    "## Ein weiteres Modell: Saldo wird In-Memory gehalten und eine eventuell-konsistente Buchhaltungsdatenbank verwendet"
   ]
  },
  {
   "cell_type": "markdown",
   "metadata": {},
   "source": [
    "Wir wollen nun ein weiteres Design unter die Lupe nehmen. Wir behalten das Single-Writer-Prinzip, aber bei jedem Start der Anwendung werden alle Überweisungen aus der Datenbank gelesen und das daraus resultierende Saldo wird In-Memory von der Single-Writer-Instanz gehalten. Die Überweisungen werden in einer Dokument-Datenbank persistiert, welche nicht mehr garantiert, dass man seine eigenen Writes lesen kann. Die Anwendung reagiert auf dieses Hindernis, indem der Single-Writer nach dem Schreiben in die Datenbank erst so lange die Datenbank abfragt, bis er seinen eigenen Write lesen konnte. Erst danach fährt er mit den nächsten Schritten seines Algorithmuses fort.\n",
    "\n",
    "\n",
    "Da das modellierte System Stateful ist, müssen wir im Vergleich zu den vorherigen Modellen den Restart des Systems modellieren. Beim Restart kann passieren, dass wir einen Write noch nicht lesen können, der sich aber nach dem abgeschlossenen Restart in der Buchhaltungsdatenbank materialisiert. Wir modellieren das so, dass der Restart einen beliebigen früheren Zustand des Universums zu Gesicht bekommt, und anhand dessen den Saldo neu aufbaut. Das resultierende Modell sieht dementsprechend so aus:"
   ]
  },
  {
   "cell_type": "code",
   "execution_count": 34,
   "metadata": {},
   "outputs": [
    {
     "name": "stdout",
     "output_type": "stream",
     "text": [
      "(def single-threaded+inmemory-balance+eventually-consistent-accounting-model\n",
      " (make-model\n",
      "   {START\n",
      "    (all\n",
      "      (generate-incoming\n",
      "        single-threaded\n",
      "        [:process {:amount 1}]\n",
      "        [:process {:amount -1}])),\n",
      "    :restart (all (restart)),\n",
      "    :process\n",
      "    (choose\n",
      "      (then-for-every-past-time-slot :restart)\n",
      "      (then :accounting-read)),\n",
      "    :accounting-read\n",
      "    (choose\n",
      "      (then-for-every-past-time-slot :restart)\n",
      "      (then :accounting-write)),\n",
      "    :accounting-write\n",
      "    (choose\n",
      "      (then-for-every-past-time-slot :restart)\n",
      "      (then :balance-write)),\n",
      "    :balance-write\n",
      "    (choose (then-for-every-past-time-slot :restart) (restart))}))\n"
     ]
    },
    {
     "data": {
      "text/plain": [
       "\"listing-22\""
      ]
     },
     "execution_count": 34,
     "metadata": {},
     "output_type": "execute_result"
    }
   ],
   "source": [
    "(a-doc/single-threaded+inmemory-balance+eventually-consistent-accounting-model)"
   ]
  },
  {
   "cell_type": "markdown",
   "metadata": {},
   "source": [
    "Der Model-Checker findet einen fatalen Bug:"
   ]
  },
  {
   "cell_type": "code",
   "execution_count": 38,
   "metadata": {},
   "outputs": [
    {
     "name": "stdout",
     "output_type": "stream",
     "text": [
      "\n",
      "{:check-count 27131,\n",
      " :max-check-count 81120,\n",
      " :property-violated\n",
      " {:name :accounting-balance-must-always-be>=0,\n",
      "  :timeline\n",
      "  [[:process {:amount 1, :process-id 0}]\n",
      "   [:accounting-read {:amount 1, :process-id 0}]\n",
      "   [:accounting-write {:amount 1, :process-id 0}]\n",
      "   [:balance-write {:amount 1, :process-id 0}]\n",
      "   [:process {:amount -1, :process-id 1}]\n",
      "   [:accounting-read {:amount -1, :process-id 1}]\n",
      "   [:accounting-write {:amount -1, :process-id 1}]\n",
      "   [:balance-write {:amount -1, :process-id 1}]\n",
      "   [:restart {:past 3}]\n",
      "   [:process {:amount -1, :process-id 2}]\n",
      "   [:accounting-read {:amount -1, :process-id 2}]\n",
      "   [:accounting-write {:amount -1, :process-id 2}]]}}\n"
     ]
    },
    {
     "data": {
      "text/plain": [
       "\"listing-26\""
      ]
     },
     "execution_count": 38,
     "metadata": {},
     "output_type": "execute_result"
    }
   ],
   "source": [
    "(a-doc/check-single-threaded+inmemory-balance+eventually-consistent-accounting-model)"
   ]
  },
  {
   "cell_type": "markdown",
   "metadata": {},
   "source": [
    "Unser Design ermöglicht es, dass man sich mehr Geld aus dem Sparschwein nimmt, als vorhanden ist. Dank dem Model-Checker können wir den Bug fixen, bevor wir mit unserem Sparschwein in Produktion gehen und von unseren Nutzern ausgeraubt werden."
   ]
  },
  {
   "cell_type": "code",
   "execution_count": null,
   "metadata": {},
   "outputs": [],
   "source": []
  }
 ],
 "metadata": {
  "kernelspec": {
   "display_name": "Clojure (clojupyter-v0.2.2)",
   "language": "clojure",
   "name": "clojupyter"
  },
  "language_info": {
   "file_extension": ".clj",
   "mimetype": "text/x-clojure",
   "name": "clojure",
   "version": "1.10.0"
  }
 },
 "nbformat": 4,
 "nbformat_minor": 4
}
